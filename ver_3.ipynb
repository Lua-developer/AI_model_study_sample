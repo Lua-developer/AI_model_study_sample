{
 "cells": [
  {
   "cell_type": "code",
   "execution_count": 2,
   "metadata": {},
   "outputs": [],
   "source": [
    "import cv2\n",
    "import os\n",
    "import numpy as np\n",
    "from keras import layers, Model"
   ]
  },
  {
   "cell_type": "code",
   "execution_count": 3,
   "metadata": {},
   "outputs": [],
   "source": [
    "# 데이터셋 경로 설정\n",
    "BASE_PATH = 'chest_xray'\n",
    "TRAIN_PATH = os.path.join(BASE_PATH, 'train')\n",
    "TEST_PATH = os.path.join(BASE_PATH, 'test')\n",
    "VAL_PATH = os.path.join(BASE_PATH, 'val')"
   ]
  },
  {
   "cell_type": "code",
   "execution_count": 58,
   "metadata": {},
   "outputs": [],
   "source": [
    "def defineModelArchitecture(_img_dims) :\n",
    "    #input layers\n",
    "    inputs = layers.Input(shape=(_img_dims, _img_dims, 3))\n",
    "    # first Conv Block\n",
    "    x = layers.Conv2D(16, (3,3), activation='relu', padding='same')(inputs)\n",
    "    x = layers.Conv2D(16, (3,3), activation='relu', padding='same')(x)\n",
    "    x = layers.MaxPool2D(pool_size=(2,2))(x)\n",
    "    # Second Conv Block\n",
    "    x = layers.Conv2D(32, (3,3), activation='relu', padding='same')(x)\n",
    "    x = layers.Conv2D(32, (3,3), activation='relu', padding='same')(x)\n",
    "    x = layers.MaxPool2D(pool_size=(2,2))(x)\n",
    "    # Third Conv Block\n",
    "    x = layers.Conv2D(64, (3,3), activation='relu', padding='same')(x)\n",
    "    x = layers.Conv2D(64, (3,3), padding='same', activation='relu')(x)\n",
    "\n",
    "    x = layers.MaxPool2D(pool_size=(2,2))(x)\n",
    "    x = layers.Dropout(rate=0.2)(x)\n",
    "    \n",
    "    # Fully Connected Net\n",
    "    x = layers.Flatten()(x)\n",
    "    x = layers.Dense(64, activation='relu')(x)\n",
    "    x = layers.Dropout(rate=0.5)(x)\n",
    "    x = layers.Dense(16, activation='relu')(x)\n",
    "    x = layers.Dropout(rate=0.3)(x)\n",
    "    \n",
    "    output = layers.Dense(1, activation='sigmoid')(x)\n",
    "\n",
    "    return inputs, output"
   ]
  },
  {
   "cell_type": "code",
   "execution_count": 60,
   "metadata": {},
   "outputs": [
    {
     "name": "stdout",
     "output_type": "stream",
     "text": [
      "Found 5216 images belonging to 2 classes.\n",
      "Found 16 images belonging to 2 classes.\n",
      "Found 624 images belonging to 2 classes.\n"
     ]
    }
   ],
   "source": [
    "from keras.preprocessing.image import ImageDataGenerator\n",
    "# 훈련 이미지 전처리\n",
    "train_image_gen = ImageDataGenerator(rescale = 1./255,\n",
    "                                     shear_range=0.2,\n",
    "                                     zoom_range=0.2,\n",
    "                                     horizontal_flip=True)\n",
    "# 테스트에 사용되는 이미지는 정규화만 적용한다.\n",
    "test_image_gen = ImageDataGenerator(rescale=1./255)\n",
    "\n",
    "validation_image_gen = ImageDataGenerator(rescale=1./255)\n",
    "# 훈련용 이미지를 폴더에서 가져온다.\n",
    "train_set = train_image_gen.flow_from_directory('chest_xray/train/',\n",
    "                                                target_size=(64,64),\n",
    "                                                batch_size=128,\n",
    "                                                class_mode='binary')\n",
    "validation_set = validation_image_gen.flow_from_directory('chest_xray/val/',\n",
    "                                                target_size=(64,64),\n",
    "                                                batch_size=128,\n",
    "                                                class_mode='binary')\n",
    "# 테스트용 이미지를 폴더에서 가져온다.\n",
    "test_set = test_image_gen.flow_from_directory('chest_xray/test/',\n",
    "                                              target_size=(64,64),\n",
    "                                              batch_size=128,\n",
    "                                              class_mode='binary')\n",
    "\n"
   ]
  },
  {
   "cell_type": "code",
   "execution_count": 61,
   "metadata": {},
   "outputs": [],
   "source": [
    "batch_size = 128\n",
    "img_dims = 64\n",
    "inputs, output = defineModelArchitecture(img_dims)"
   ]
  },
  {
   "cell_type": "code",
   "execution_count": 62,
   "metadata": {},
   "outputs": [
    {
     "name": "stdout",
     "output_type": "stream",
     "text": [
      "Model: \"model_13\"\n",
      "_________________________________________________________________\n",
      " Layer (type)                Output Shape              Param #   \n",
      "=================================================================\n",
      " input_7 (InputLayer)        [(None, 64, 64, 3)]       0         \n",
      "                                                                 \n",
      " conv2d_20 (Conv2D)          (None, 64, 64, 16)        448       \n",
      "                                                                 \n",
      " conv2d_21 (Conv2D)          (None, 64, 64, 16)        2320      \n",
      "                                                                 \n",
      " max_pooling2d_21 (MaxPoolin  (None, 32, 32, 16)       0         \n",
      " g2D)                                                            \n",
      "                                                                 \n",
      " conv2d_22 (Conv2D)          (None, 32, 32, 32)        4640      \n",
      "                                                                 \n",
      " conv2d_23 (Conv2D)          (None, 32, 32, 32)        9248      \n",
      "                                                                 \n",
      " max_pooling2d_22 (MaxPoolin  (None, 16, 16, 32)       0         \n",
      " g2D)                                                            \n",
      "                                                                 \n",
      " conv2d_24 (Conv2D)          (None, 16, 16, 64)        18496     \n",
      "                                                                 \n",
      " conv2d_25 (Conv2D)          (None, 16, 16, 64)        36928     \n",
      "                                                                 \n",
      " max_pooling2d_23 (MaxPoolin  (None, 8, 8, 64)         0         \n",
      " g2D)                                                            \n",
      "                                                                 \n",
      " dropout_24 (Dropout)        (None, 8, 8, 64)          0         \n",
      "                                                                 \n",
      " flatten_6 (Flatten)         (None, 4096)              0         \n",
      "                                                                 \n",
      " dense_21 (Dense)            (None, 64)                262208    \n",
      "                                                                 \n",
      " dropout_25 (Dropout)        (None, 64)                0         \n",
      "                                                                 \n",
      " dense_22 (Dense)            (None, 16)                1040      \n",
      "                                                                 \n",
      " dropout_26 (Dropout)        (None, 16)                0         \n",
      "                                                                 \n",
      " dense_23 (Dense)            (None, 1)                 17        \n",
      "                                                                 \n",
      "=================================================================\n",
      "Total params: 335,345\n",
      "Trainable params: 335,345\n",
      "Non-trainable params: 0\n",
      "_________________________________________________________________\n"
     ]
    },
    {
     "name": "stderr",
     "output_type": "stream",
     "text": [
      "C:\\Users\\LUA\\AppData\\Local\\Temp\\ipykernel_10592\\1764267295.py:4: UserWarning: `Model.fit_generator` is deprecated and will be removed in a future version. Please use `Model.fit`, which supports generators.\n",
      "  history = model.fit_generator(train_set,\n"
     ]
    },
    {
     "name": "stdout",
     "output_type": "stream",
     "text": [
      "Epoch 1/9\n",
      "41/41 [==============================] - 60s 1s/step - loss: 0.6251 - acc: 0.7306 - val_loss: 0.7503 - val_acc: 0.6250\n",
      "Epoch 2/9\n",
      "41/41 [==============================] - 58s 1s/step - loss: 0.5287 - acc: 0.7512 - val_loss: 0.6693 - val_acc: 0.6314\n",
      "Epoch 3/9\n",
      "41/41 [==============================] - 57s 1s/step - loss: 0.4572 - acc: 0.7899 - val_loss: 0.5688 - val_acc: 0.7885\n",
      "Epoch 4/9\n",
      "41/41 [==============================] - 59s 1s/step - loss: 0.3662 - acc: 0.8391 - val_loss: 0.5931 - val_acc: 0.7404\n",
      "Epoch 5/9\n",
      "41/41 [==============================] - 57s 1s/step - loss: 0.3337 - acc: 0.8577 - val_loss: 0.4053 - val_acc: 0.8365\n",
      "Epoch 6/9\n",
      "41/41 [==============================] - 57s 1s/step - loss: 0.2974 - acc: 0.8735 - val_loss: 0.3645 - val_acc: 0.8670\n",
      "Epoch 7/9\n",
      "41/41 [==============================] - 57s 1s/step - loss: 0.2780 - acc: 0.8854 - val_loss: 0.5412 - val_acc: 0.7965\n",
      "Epoch 8/9\n",
      "41/41 [==============================] - 57s 1s/step - loss: 0.2609 - acc: 0.8924 - val_loss: 0.3647 - val_acc: 0.8638\n",
      "Epoch 9/9\n",
      "41/41 [==============================] - 56s 1s/step - loss: 0.2282 - acc: 0.9099 - val_loss: 0.3917 - val_acc: 0.8205\n"
     ]
    }
   ],
   "source": [
    "model = Model(inputs=inputs, outputs=output)\n",
    "model.compile(loss='binary_crossentropy', metrics=['acc'])\n",
    "model.summary()\n",
    "history = model.fit_generator(train_set,\n",
    "                    steps_per_epoch=len(train_set),\n",
    "                    epochs=9,\n",
    "                    validation_data= test_set,\n",
    "                    validation_steps=len(test_set))"
   ]
  },
  {
   "cell_type": "code",
   "execution_count": 65,
   "metadata": {},
   "outputs": [
    {
     "data": {
      "text/plain": [
       "<matplotlib.legend.Legend at 0x197e18b3c40>"
      ]
     },
     "execution_count": 65,
     "metadata": {},
     "output_type": "execute_result"
    },
    {
     "data": {
      "image/png": "[encoded data removed]",
      "text/plain": [
       "<Figure size 432x288 with 1 Axes>"
      ]
     },
     "metadata": {
      "needs_background": "light"
     },
     "output_type": "display_data"
    }
   ],
   "source": [
    "import matplotlib.pyplot as plt\n",
    "\n",
    "acc = history.history['acc']\n",
    "val_acc = history.history['val_acc']\n",
    "loss = history.history['loss']\n",
    "val_loss = history.history['val_loss']\n",
    "\n",
    "# 훈련, 검증 정확도 분석\n",
    "epochs = range(1, len(acc) + 1)\n",
    "plt.subplot()\n",
    "plt.plot(epochs, acc, 'bo', label='Training loss')\n",
    "plt.plot(epochs, val_acc, 'b', label='Validation loss')\n",
    "plt.title('training and validation loss')\n",
    "plt.legend()\n",
    "plt.clf()\n",
    "plt.plot(epochs, loss, 'bo', label='Training loss')\n",
    "plt.plot(epochs, val_loss, 'b', label='Validation loss')\n",
    "plt.title('training and validation loss')\n",
    "plt.legend()"
   ]
  },
  {
   "cell_type": "code",
   "execution_count": 64,
   "metadata": {},
   "outputs": [
    {
     "name": "stdout",
     "output_type": "stream",
     "text": [
      "1/1 [==============================] - 0s 152ms/step - loss: 0.3855 - acc: 0.8125\n"
     ]
    }
   ],
   "source": [
    "evaluation = model.evaluate(validation_set)"
   ]
  }
 ],
 "metadata": {
  "interpreter": {
   "hash": "331259889d6aea7cac7f8fa3ac8b4b857d2930e7f5bcfc9b82cc526690fa0cde"
  },
  "kernelspec": {
   "display_name": "Python 3.10.2 64-bit",
   "language": "python",
   "name": "python3"
  },
  "language_info": {
   "codemirror_mode": {
    "name": "ipython",
    "version": 3
   },
   "file_extension": ".py",
   "mimetype": "text/x-python",
   "name": "python",
   "nbconvert_exporter": "python",
   "pygments_lexer": "ipython3",
   "version": "3.10.2"
  },
  "orig_nbformat": 4
 },
 "nbformat": 4,
 "nbformat_minor": 2
}
